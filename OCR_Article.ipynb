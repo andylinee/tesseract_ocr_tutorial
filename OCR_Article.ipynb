{
 "cells": [
  {
   "cell_type": "markdown",
   "metadata": {},
   "source": [
    "# Import packages & set up pytesseract"
   ]
  },
  {
   "cell_type": "code",
   "execution_count": 1,
   "metadata": {},
   "outputs": [],
   "source": [
    "import cv2\n",
    "import numpy as np\n",
    "import pytesseract\n",
    "\n",
    "# 設定為 tesseract 所存放的路徑\n",
    "pytesseract.pytesseract.tesseract_cmd = r'/usr/local/bin/tesseract'"
   ]
  },
  {
   "cell_type": "markdown",
   "metadata": {},
   "source": [
    "# OpenCV 影像前處理"
   ]
  },
  {
   "cell_type": "code",
   "execution_count": 2,
   "metadata": {},
   "outputs": [],
   "source": [
    "# 讀取影像\n",
    "image = cv2.imread('ocr_article_img.jpg', cv2.IMREAD_COLOR)\n",
    "# 縮放成 300x300\n",
    "res_img = cv2.resize(image, (300,300), interpolation=cv2.INTER_CUBIC)\n",
    "# 灰階\n",
    "gray_img = cv2.cvtColor(res_img, cv2.COLOR_RGB2GRAY)\n",
    "# 二值化反轉\n",
    "sim_inv = cv2.threshold(gray_img, 110, 255, cv2.THRESH_BINARY_INV)[1]\n",
    "# 模糊化\n",
    "mblur = cv2.medianBlur(sim_inv, 3)\n",
    "# 開運算\n",
    "kernel = np.ones((2,2), np.uint8)\n",
    "open_img = cv2.morphologyEx(mblur, cv2.MORPH_OPEN, kernel)"
   ]
  },
  {
   "cell_type": "code",
   "execution_count": 4,
   "metadata": {},
   "outputs": [],
   "source": [
    "# 顯示影像\n",
    "cv2.imshow('Original Image', res_img)\n",
    "\n",
    "# 按下任意鍵則關閉所有視窗\n",
    "cv2.waitKey(0)\n",
    "cv2.destroyAllWindows()"
   ]
  },
  {
   "cell_type": "code",
   "execution_count": 5,
   "metadata": {},
   "outputs": [],
   "source": [
    "# 顯示影像\n",
    "cv2.imshow('Preprocessed Image', mblur)\n",
    "\n",
    "# 按下任意鍵則關閉所有視窗\n",
    "cv2.waitKey(0)\n",
    "cv2.destroyAllWindows()"
   ]
  },
  {
   "cell_type": "code",
   "execution_count": 6,
   "metadata": {},
   "outputs": [
    {
     "name": "stdout",
     "output_type": "stream",
     "text": [
      "NTT\n",
      "DATA\n",
      "NTT\n",
      "DATA\n",
      "NTT\n",
      "DATA\n",
      "\f",
      "\n"
     ]
    }
   ],
   "source": [
    "# Adding custom options\n",
    "custom_config = r'--oem 3 --psm 6'\n",
    "\n",
    "# pytesseract 辨識結果\n",
    "print(pytesseract.image_to_string(open_img, lang='eng', config=custom_config))"
   ]
  },
  {
   "cell_type": "code",
   "execution_count": null,
   "metadata": {},
   "outputs": [],
   "source": []
  }
 ],
 "metadata": {
  "kernelspec": {
   "display_name": "Python 3",
   "language": "python",
   "name": "python3"
  },
  "language_info": {
   "codemirror_mode": {
    "name": "ipython",
    "version": 3
   },
   "file_extension": ".py",
   "mimetype": "text/x-python",
   "name": "python",
   "nbconvert_exporter": "python",
   "pygments_lexer": "ipython3",
   "version": "3.6.9"
  }
 },
 "nbformat": 4,
 "nbformat_minor": 2
}
